{
 "cells": [
  {
   "cell_type": "code",
   "execution_count": 1,
   "metadata": {
    "ExecuteTime": {
     "end_time": "2020-12-28T11:50:17.614462Z",
     "start_time": "2020-12-28T11:50:15.693216Z"
    }
   },
   "outputs": [],
   "source": [
    "## importing necessary libraries\n",
    "import pandas as pd\n",
    "import numpy as np\n",
    "import matplotlib.pyplot as plt\n",
    "import seaborn as sns\n",
    "import os"
   ]
  },
  {
   "cell_type": "code",
   "execution_count": 2,
   "metadata": {
    "ExecuteTime": {
     "end_time": "2020-12-28T11:50:17.623818Z",
     "start_time": "2020-12-28T11:50:17.619619Z"
    }
   },
   "outputs": [],
   "source": [
    "## ignoring warnings\n",
    "import warnings\n",
    "warnings.filterwarnings('ignore')"
   ]
  },
  {
   "cell_type": "code",
   "execution_count": 3,
   "metadata": {
    "ExecuteTime": {
     "end_time": "2020-12-28T11:50:17.648572Z",
     "start_time": "2020-12-28T11:50:17.628095Z"
    }
   },
   "outputs": [
    {
     "data": {
      "text/plain": [
       "'C:\\\\Users\\\\Admin\\\\Downloads'"
      ]
     },
     "execution_count": 3,
     "metadata": {},
     "output_type": "execute_result"
    }
   ],
   "source": [
    "## to get the working directory\n",
    "os.getcwd()"
   ]
  },
  {
   "cell_type": "code",
   "execution_count": 4,
   "metadata": {
    "ExecuteTime": {
     "end_time": "2020-12-28T11:50:17.664371Z",
     "start_time": "2020-12-28T11:50:17.654753Z"
    }
   },
   "outputs": [],
   "source": [
    "## changing path of directory\n",
    "os.chdir('C:\\\\Users\\\\Admin\\\\Downloads')"
   ]
  },
  {
   "cell_type": "code",
   "execution_count": 5,
   "metadata": {
    "ExecuteTime": {
     "end_time": "2020-12-28T11:50:17.681285Z",
     "start_time": "2020-12-28T11:50:17.668316Z"
    }
   },
   "outputs": [],
   "source": [
    "## setting to display max rows and columns\n",
    "pd.set_option('display.max_columns', None)\n",
    "pd.set_option('display.max_rows',None)"
   ]
  },
  {
   "cell_type": "code",
   "execution_count": 6,
   "metadata": {
    "ExecuteTime": {
     "end_time": "2020-12-28T11:50:17.935605Z",
     "start_time": "2020-12-28T11:50:17.687573Z"
    }
   },
   "outputs": [
    {
     "data": {
      "text/plain": [
       "'train'"
      ]
     },
     "metadata": {},
     "output_type": "display_data"
    },
    {
     "data": {
      "text/plain": [
       "(54808, 14)"
      ]
     },
     "metadata": {},
     "output_type": "display_data"
    },
    {
     "data": {
      "text/plain": [
       "'test'"
      ]
     },
     "metadata": {},
     "output_type": "display_data"
    },
    {
     "data": {
      "text/plain": [
       "(23490, 13)"
      ]
     },
     "metadata": {},
     "output_type": "display_data"
    }
   ],
   "source": [
    "## importing train and test files \n",
    "\n",
    "train = pd.read_csv('Hr_train.csv')\n",
    "test = pd.read_csv('Hr_test.csv')\n",
    "\n",
    "## rows and col in train and test\n",
    "\n",
    "display('train',train.shape, 'test',test.shape)"
   ]
  },
  {
   "cell_type": "code",
   "execution_count": 7,
   "metadata": {
    "ExecuteTime": {
     "end_time": "2020-12-28T11:50:17.961534Z",
     "start_time": "2020-12-28T11:50:17.940588Z"
    }
   },
   "outputs": [
    {
     "data": {
      "text/plain": [
       "'train'"
      ]
     },
     "metadata": {},
     "output_type": "display_data"
    },
    {
     "data": {
      "text/plain": [
       "Index(['employee_id', 'department', 'region', 'education', 'gender',\n",
       "       'recruitment_channel', 'no_of_trainings', 'age', 'previous_year_rating',\n",
       "       'length_of_service', 'KPIs_met >80%', 'awards_won?',\n",
       "       'avg_training_score', 'is_promoted'],\n",
       "      dtype='object')"
      ]
     },
     "metadata": {},
     "output_type": "display_data"
    },
    {
     "data": {
      "text/plain": [
       "'test'"
      ]
     },
     "metadata": {},
     "output_type": "display_data"
    },
    {
     "data": {
      "text/plain": [
       "Index(['employee_id', 'department', 'region', 'education', 'gender',\n",
       "       'recruitment_channel', 'no_of_trainings', 'age', 'previous_year_rating',\n",
       "       'length_of_service', 'KPIs_met >80%', 'awards_won?',\n",
       "       'avg_training_score'],\n",
       "      dtype='object')"
      ]
     },
     "metadata": {},
     "output_type": "display_data"
    }
   ],
   "source": [
    "## column names in train and test dataset\n",
    "display('train',train.columns,'test',test.columns)\n",
    "\n",
    "## target variable is - is_promoted, this variable is not in test(hve to predict)"
   ]
  },
  {
   "cell_type": "code",
   "execution_count": 8,
   "metadata": {
    "ExecuteTime": {
     "end_time": "2020-12-28T11:50:18.024416Z",
     "start_time": "2020-12-28T11:50:17.965523Z"
    }
   },
   "outputs": [
    {
     "data": {
      "text/html": [
       "<div>\n",
       "<style scoped>\n",
       "    .dataframe tbody tr th:only-of-type {\n",
       "        vertical-align: middle;\n",
       "    }\n",
       "\n",
       "    .dataframe tbody tr th {\n",
       "        vertical-align: top;\n",
       "    }\n",
       "\n",
       "    .dataframe thead th {\n",
       "        text-align: right;\n",
       "    }\n",
       "</style>\n",
       "<table border=\"1\" class=\"dataframe\">\n",
       "  <thead>\n",
       "    <tr style=\"text-align: right;\">\n",
       "      <th></th>\n",
       "      <th>employee_id</th>\n",
       "      <th>department</th>\n",
       "      <th>region</th>\n",
       "      <th>education</th>\n",
       "      <th>gender</th>\n",
       "      <th>recruitment_channel</th>\n",
       "      <th>no_of_trainings</th>\n",
       "      <th>age</th>\n",
       "      <th>previous_year_rating</th>\n",
       "      <th>length_of_service</th>\n",
       "      <th>KPIs_met &gt;80%</th>\n",
       "      <th>awards_won?</th>\n",
       "      <th>avg_training_score</th>\n",
       "      <th>is_promoted</th>\n",
       "    </tr>\n",
       "  </thead>\n",
       "  <tbody>\n",
       "    <tr>\n",
       "      <th>0</th>\n",
       "      <td>65438</td>\n",
       "      <td>Sales &amp; Marketing</td>\n",
       "      <td>region_7</td>\n",
       "      <td>Master's &amp; above</td>\n",
       "      <td>f</td>\n",
       "      <td>sourcing</td>\n",
       "      <td>1</td>\n",
       "      <td>35</td>\n",
       "      <td>5.0</td>\n",
       "      <td>8</td>\n",
       "      <td>1</td>\n",
       "      <td>0</td>\n",
       "      <td>49</td>\n",
       "      <td>0.0</td>\n",
       "    </tr>\n",
       "    <tr>\n",
       "      <th>1</th>\n",
       "      <td>65141</td>\n",
       "      <td>Operations</td>\n",
       "      <td>region_22</td>\n",
       "      <td>Bachelor's</td>\n",
       "      <td>m</td>\n",
       "      <td>other</td>\n",
       "      <td>1</td>\n",
       "      <td>30</td>\n",
       "      <td>5.0</td>\n",
       "      <td>4</td>\n",
       "      <td>0</td>\n",
       "      <td>0</td>\n",
       "      <td>60</td>\n",
       "      <td>0.0</td>\n",
       "    </tr>\n",
       "    <tr>\n",
       "      <th>2</th>\n",
       "      <td>7513</td>\n",
       "      <td>Sales &amp; Marketing</td>\n",
       "      <td>region_19</td>\n",
       "      <td>Bachelor's</td>\n",
       "      <td>m</td>\n",
       "      <td>sourcing</td>\n",
       "      <td>1</td>\n",
       "      <td>34</td>\n",
       "      <td>3.0</td>\n",
       "      <td>7</td>\n",
       "      <td>0</td>\n",
       "      <td>0</td>\n",
       "      <td>50</td>\n",
       "      <td>0.0</td>\n",
       "    </tr>\n",
       "    <tr>\n",
       "      <th>3</th>\n",
       "      <td>2542</td>\n",
       "      <td>Sales &amp; Marketing</td>\n",
       "      <td>region_23</td>\n",
       "      <td>Bachelor's</td>\n",
       "      <td>m</td>\n",
       "      <td>other</td>\n",
       "      <td>2</td>\n",
       "      <td>39</td>\n",
       "      <td>1.0</td>\n",
       "      <td>10</td>\n",
       "      <td>0</td>\n",
       "      <td>0</td>\n",
       "      <td>50</td>\n",
       "      <td>0.0</td>\n",
       "    </tr>\n",
       "    <tr>\n",
       "      <th>4</th>\n",
       "      <td>48945</td>\n",
       "      <td>Technology</td>\n",
       "      <td>region_26</td>\n",
       "      <td>Bachelor's</td>\n",
       "      <td>m</td>\n",
       "      <td>other</td>\n",
       "      <td>1</td>\n",
       "      <td>45</td>\n",
       "      <td>3.0</td>\n",
       "      <td>2</td>\n",
       "      <td>0</td>\n",
       "      <td>0</td>\n",
       "      <td>73</td>\n",
       "      <td>0.0</td>\n",
       "    </tr>\n",
       "  </tbody>\n",
       "</table>\n",
       "</div>"
      ],
      "text/plain": [
       "   employee_id         department     region         education gender  \\\n",
       "0        65438  Sales & Marketing   region_7  Master's & above      f   \n",
       "1        65141         Operations  region_22        Bachelor's      m   \n",
       "2         7513  Sales & Marketing  region_19        Bachelor's      m   \n",
       "3         2542  Sales & Marketing  region_23        Bachelor's      m   \n",
       "4        48945         Technology  region_26        Bachelor's      m   \n",
       "\n",
       "  recruitment_channel  no_of_trainings  age  previous_year_rating  \\\n",
       "0            sourcing                1   35                   5.0   \n",
       "1               other                1   30                   5.0   \n",
       "2            sourcing                1   34                   3.0   \n",
       "3               other                2   39                   1.0   \n",
       "4               other                1   45                   3.0   \n",
       "\n",
       "   length_of_service  KPIs_met >80%  awards_won?  avg_training_score  \\\n",
       "0                  8              1            0                  49   \n",
       "1                  4              0            0                  60   \n",
       "2                  7              0            0                  50   \n",
       "3                 10              0            0                  50   \n",
       "4                  2              0            0                  73   \n",
       "\n",
       "   is_promoted  \n",
       "0          0.0  \n",
       "1          0.0  \n",
       "2          0.0  \n",
       "3          0.0  \n",
       "4          0.0  "
      ]
     },
     "execution_count": 8,
     "metadata": {},
     "output_type": "execute_result"
    }
   ],
   "source": [
    "## merging train and test dataset-- \n",
    "df = pd.concat([train,test])\n",
    "pd.set_option('display.max_columns',None)\n",
    "pd.set_option('display.max_rows',None)\n",
    "df.head()"
   ]
  },
  {
   "cell_type": "code",
   "execution_count": 9,
   "metadata": {
    "ExecuteTime": {
     "end_time": "2020-12-28T11:50:18.039442Z",
     "start_time": "2020-12-28T11:50:18.028357Z"
    }
   },
   "outputs": [
    {
     "name": "stdout",
     "output_type": "stream",
     "text": [
      "Rows and columns in dataset : (78298, 14)\n"
     ]
    }
   ],
   "source": [
    "## shape of dataset\n",
    "shape = df.shape\n",
    "print('Rows and columns in dataset : {}'.format(shape))"
   ]
  },
  {
   "cell_type": "code",
   "execution_count": 10,
   "metadata": {
    "ExecuteTime": {
     "end_time": "2020-12-28T11:50:18.116371Z",
     "start_time": "2020-12-28T11:50:18.045308Z"
    }
   },
   "outputs": [
    {
     "data": {
      "text/plain": [
       "employee_id              0.000000\n",
       "department               0.000000\n",
       "region                   0.000000\n",
       "education                4.397303\n",
       "gender                   0.000000\n",
       "recruitment_channel      0.000000\n",
       "no_of_trainings          0.000000\n",
       "age                      0.000000\n",
       "previous_year_rating     7.581292\n",
       "length_of_service        0.000000\n",
       "KPIs_met >80%            0.000000\n",
       "awards_won?              0.000000\n",
       "avg_training_score       0.000000\n",
       "is_promoted             30.000766\n",
       "dtype: float64"
      ]
     },
     "execution_count": 10,
     "metadata": {},
     "output_type": "execute_result"
    }
   ],
   "source": [
    "## checking missing values in a dataset --- \n",
    "\n",
    "df.isnull().sum()/len(df)*100\n",
    "\n",
    "# 4.39 perc missing values in education \n",
    "#7.5 perc missing values in prev_year_ratings\n",
    "\n",
    "#is_promoted has missing values because this column is not present in test dataset i.e. 30 perc"
   ]
  },
  {
   "cell_type": "code",
   "execution_count": 11,
   "metadata": {
    "ExecuteTime": {
     "end_time": "2020-12-28T11:50:18.248881Z",
     "start_time": "2020-12-28T11:50:18.122104Z"
    }
   },
   "outputs": [
    {
     "data": {
      "text/plain": [
       "0"
      ]
     },
     "execution_count": 11,
     "metadata": {},
     "output_type": "execute_result"
    }
   ],
   "source": [
    "## duplicate values\n",
    "\n",
    "df.duplicated().sum()\n",
    "\n",
    "# 0 duplicate values--\n"
   ]
  },
  {
   "cell_type": "code",
   "execution_count": 12,
   "metadata": {
    "ExecuteTime": {
     "end_time": "2020-12-28T11:50:18.259739Z",
     "start_time": "2020-12-28T11:50:18.253755Z"
    }
   },
   "outputs": [],
   "source": [
    "test_id = test['employee_id']"
   ]
  },
  {
   "cell_type": "code",
   "execution_count": 13,
   "metadata": {
    "ExecuteTime": {
     "end_time": "2020-12-28T11:50:18.309602Z",
     "start_time": "2020-12-28T11:50:18.262727Z"
    }
   },
   "outputs": [
    {
     "name": "stdout",
     "output_type": "stream",
     "text": [
      "No of unique employee id :  78298\n"
     ]
    },
    {
     "data": {
      "text/plain": [
       "Index(['department', 'region', 'education', 'gender', 'recruitment_channel',\n",
       "       'no_of_trainings', 'age', 'previous_year_rating', 'length_of_service',\n",
       "       'KPIs_met >80%', 'awards_won?', 'avg_training_score', 'is_promoted'],\n",
       "      dtype='object')"
      ]
     },
     "execution_count": 13,
     "metadata": {},
     "output_type": "execute_result"
    }
   ],
   "source": [
    "#  employee_id column - \n",
    "\n",
    "print('No of unique employee id : ', df['employee_id'].nunique())\n",
    "\n",
    "# no of employee id's is equal to the rows in a dataset \n",
    "\n",
    "## so , better to drop this column(not useful for the analysis or prediction purpose)\n",
    "\n",
    "df.drop('employee_id',axis = 1, inplace = True)\n",
    "\n",
    "df.columns"
   ]
  },
  {
   "cell_type": "code",
   "execution_count": 14,
   "metadata": {
    "ExecuteTime": {
     "end_time": "2020-12-28T11:50:18.332279Z",
     "start_time": "2020-12-28T11:50:18.314590Z"
    }
   },
   "outputs": [
    {
     "data": {
      "text/plain": [
       "0.0    91.482995\n",
       "1.0     8.517005\n",
       "Name: is_promoted, dtype: float64"
      ]
     },
     "execution_count": 14,
     "metadata": {},
     "output_type": "execute_result"
    }
   ],
   "source": [
    "## is_promoted column\n",
    "\n",
    "df['is_promoted'].value_counts(normalize = True)*100\n",
    "\n",
    "## 91 perc employees are not promoted\n",
    "## only 8 perc employees are promoted "
   ]
  },
  {
   "cell_type": "code",
   "execution_count": 15,
   "metadata": {
    "ExecuteTime": {
     "end_time": "2020-12-28T11:50:19.941713Z",
     "start_time": "2020-12-28T11:50:18.336531Z"
    }
   },
   "outputs": [
    {
     "data": {
      "image/png": "[encoded data removed]",
      "text/plain": [
       "<Figure size 432x288 with 1 Axes>"
      ]
     },
     "metadata": {
      "needs_background": "light"
     },
     "output_type": "display_data"
    }
   ],
   "source": [
    "sns.countplot(df['is_promoted']);"
   ]
  },
  {
   "cell_type": "code",
   "execution_count": 16,
   "metadata": {
    "ExecuteTime": {
     "end_time": "2020-12-28T11:50:20.306549Z",
     "start_time": "2020-12-28T11:50:19.943842Z"
    }
   },
   "outputs": [
    {
     "data": {
      "image/png": "[encoded data removed]",
      "text/plain": [
       "<Figure size 720x360 with 1 Axes>"
      ]
     },
     "metadata": {
      "needs_background": "light"
     },
     "output_type": "display_data"
    }
   ],
   "source": [
    "## department column-- \n",
    "\n",
    "dep_data = df['department'].value_counts(normalize = True)*100\n",
    "\n",
    "plt.figure(figsize = (10,5))\n",
    "\n",
    "plt.xlabel('Department')\n",
    "plt.ylabel('% of Employees')\n",
    "plt.title('% of employees in various departments')\n",
    "\n",
    "dep_data.plot(kind = 'bar',color = 'saddlebrown');\n",
    "\n",
    "\n",
    "## OBSERVATION - \n",
    "# Max of the employees belongs to sales & marketing or operations department\n",
    "# least no of employees belongs to legal or R&D department"
   ]
  },
  {
   "cell_type": "code",
   "execution_count": 17,
   "metadata": {
    "ExecuteTime": {
     "end_time": "2020-12-28T11:50:20.797428Z",
     "start_time": "2020-12-28T11:50:20.309347Z"
    }
   },
   "outputs": [
    {
     "data": {
      "image/png": "[encoded data removed]",
      "text/plain": [
       "<Figure size 432x288 with 1 Axes>"
      ]
     },
     "metadata": {
      "needs_background": "light"
     },
     "output_type": "display_data"
    }
   ],
   "source": [
    "pd.crosstab(df['department'], df['is_promoted']).plot(kind='bar', stacked=True);\n",
    "plt.title('Department wise Promotion')\n",
    "plt.show()"
   ]
  },
  {
   "cell_type": "code",
   "execution_count": 18,
   "metadata": {
    "ExecuteTime": {
     "end_time": "2020-12-28T11:50:21.449800Z",
     "start_time": "2020-12-28T11:50:20.806709Z"
    }
   },
   "outputs": [
    {
     "name": "stdout",
     "output_type": "stream",
     "text": [
      "No of regions :  34\n"
     ]
    },
    {
     "data": {
      "image/png": "[encoded data removed]",
      "text/plain": [
       "<Figure size 720x360 with 1 Axes>"
      ]
     },
     "metadata": {
      "needs_background": "light"
     },
     "output_type": "display_data"
    }
   ],
   "source": [
    "### Region\n",
    "\n",
    "print('No of regions : ', df['region'].nunique())\n",
    "\n",
    "# Employees are from 34 different regions\n",
    "\n",
    "#Region wise count\n",
    "\n",
    "reg_count = df['region'].value_counts(normalize = True)*100\n",
    "plt.figure(figsize = (10,5))\n",
    "\n",
    "plt.xlabel('Region')\n",
    "plt.ylabel('% of Employees')\n",
    "plt.title('% of employees in various Regions')\n",
    "\n",
    "reg_count.plot(kind = 'bar',color = 'saddlebrown');\n",
    "\n",
    "#Max of the employees belongs to region_2 "
   ]
  },
  {
   "cell_type": "code",
   "execution_count": 19,
   "metadata": {
    "ExecuteTime": {
     "end_time": "2020-12-28T11:50:22.229599Z",
     "start_time": "2020-12-28T11:50:21.455138Z"
    }
   },
   "outputs": [
    {
     "data": {
      "image/png": "[encoded data removed]",
      "text/plain": [
       "<Figure size 432x288 with 1 Axes>"
      ]
     },
     "metadata": {
      "needs_background": "light"
     },
     "output_type": "display_data"
    }
   ],
   "source": [
    "## Region wise promoted or not promoted\n",
    "\n",
    "pd.crosstab(df['region'], df['is_promoted']).plot(kind='bar', stacked=True);\n",
    "plt.title('Region wise Promotion')\n",
    "plt.show()"
   ]
  },
  {
   "cell_type": "code",
   "execution_count": 20,
   "metadata": {
    "ExecuteTime": {
     "end_time": "2020-12-28T11:50:22.424076Z",
     "start_time": "2020-12-28T11:50:22.233585Z"
    }
   },
   "outputs": [
    {
     "data": {
      "text/plain": [
       "<AxesSubplot:ylabel='education'>"
      ]
     },
     "execution_count": 20,
     "metadata": {},
     "output_type": "execute_result"
    },
    {
     "data": {
      "image/png": "[encoded data removed]",
      "text/plain": [
       "<Figure size 432x288 with 1 Axes>"
      ]
     },
     "metadata": {},
     "output_type": "display_data"
    }
   ],
   "source": [
    "## Education\n",
    "df['education'].value_counts().plot(kind = 'pie')\n",
    "\n",
    "# Max of the employees hold bachelors' degree \n",
    "#least employees hold below secondary degree"
   ]
  },
  {
   "cell_type": "code",
   "execution_count": 21,
   "metadata": {
    "ExecuteTime": {
     "end_time": "2020-12-28T11:50:22.452001Z",
     "start_time": "2020-12-28T11:50:22.428065Z"
    }
   },
   "outputs": [],
   "source": [
    "### substituting na values with mode\n",
    "\n",
    "m = df['education'].mode()[0]\n",
    "\n",
    "\n",
    "df['education'].fillna(m,inplace = True)"
   ]
  },
  {
   "cell_type": "code",
   "execution_count": 22,
   "metadata": {
    "ExecuteTime": {
     "end_time": "2020-12-28T11:50:22.509848Z",
     "start_time": "2020-12-28T11:50:22.457174Z"
    }
   },
   "outputs": [
    {
     "data": {
      "text/plain": [
       "department                  0\n",
       "region                      0\n",
       "education                   0\n",
       "gender                      0\n",
       "recruitment_channel         0\n",
       "no_of_trainings             0\n",
       "age                         0\n",
       "previous_year_rating     5936\n",
       "length_of_service           0\n",
       "KPIs_met >80%               0\n",
       "awards_won?                 0\n",
       "avg_training_score          0\n",
       "is_promoted             23490\n",
       "dtype: int64"
      ]
     },
     "execution_count": 22,
     "metadata": {},
     "output_type": "execute_result"
    }
   ],
   "source": [
    "df.isnull().sum()"
   ]
  },
  {
   "cell_type": "code",
   "execution_count": 23,
   "metadata": {
    "ExecuteTime": {
     "end_time": "2020-12-28T11:50:29.728955Z",
     "start_time": "2020-12-28T11:50:22.512838Z"
    }
   },
   "outputs": [
    {
     "data": {
      "image/png": "[encoded data removed]",
      "text/plain": [
       "<Figure size 429.25x360 with 1 Axes>"
      ]
     },
     "metadata": {
      "needs_background": "light"
     },
     "output_type": "display_data"
    }
   ],
   "source": [
    "sns.catplot(data = df,x = 'education',kind = 'count',hue = 'is_promoted', palette = 'prism',orient = 'v')\n",
    "plt.title('Education wise promoted')\n",
    "plt.show()"
   ]
  },
  {
   "cell_type": "code",
   "execution_count": 24,
   "metadata": {
    "ExecuteTime": {
     "end_time": "2020-12-28T11:50:29.921439Z",
     "start_time": "2020-12-28T11:50:29.733938Z"
    }
   },
   "outputs": [
    {
     "data": {
      "text/plain": [
       "<AxesSubplot:ylabel='gender'>"
      ]
     },
     "execution_count": 24,
     "metadata": {},
     "output_type": "execute_result"
    },
    {
     "data": {
      "image/png": "[encoded data removed]",
      "text/plain": [
       "<Figure size 432x288 with 1 Axes>"
      ]
     },
     "metadata": {},
     "output_type": "display_data"
    }
   ],
   "source": [
    "## gender\n",
    "\n",
    "df['gender'].value_counts().plot(kind = 'pie')\n",
    "\n",
    "## Max employees are males than females"
   ]
  },
  {
   "cell_type": "code",
   "execution_count": 25,
   "metadata": {
    "ExecuteTime": {
     "end_time": "2020-12-28T11:50:37.029605Z",
     "start_time": "2020-12-28T11:50:29.926695Z"
    }
   },
   "outputs": [
    {
     "data": {
      "image/png": "[encoded data removed]",
      "text/plain": [
       "<Figure size 429.25x360 with 1 Axes>"
      ]
     },
     "metadata": {
      "needs_background": "light"
     },
     "output_type": "display_data"
    }
   ],
   "source": [
    "## gender wise Promotion \n",
    "sns.catplot(data = df,x = 'gender',kind = 'count',hue = 'is_promoted', palette = 'copper',orient = 'v')\n",
    "plt.title('Gender wise promoted')\n",
    "plt.show()\n",
    "\n",
    "\n",
    "\n"
   ]
  },
  {
   "cell_type": "code",
   "execution_count": 26,
   "metadata": {
    "ExecuteTime": {
     "end_time": "2020-12-28T11:50:37.280966Z",
     "start_time": "2020-12-28T11:50:37.033666Z"
    }
   },
   "outputs": [
    {
     "data": {
      "text/plain": [
       "<AxesSubplot:>"
      ]
     },
     "execution_count": 26,
     "metadata": {},
     "output_type": "execute_result"
    },
    {
     "data": {
      "image/png": "[encoded data removed]",
      "text/plain": [
       "<Figure size 432x288 with 1 Axes>"
      ]
     },
     "metadata": {
      "needs_background": "light"
     },
     "output_type": "display_data"
    }
   ],
   "source": [
    "## Recruitment channel\n",
    "\n",
    "df['recruitment_channel'].value_counts().plot(kind = 'bar', color = 'teal')"
   ]
  },
  {
   "cell_type": "code",
   "execution_count": 27,
   "metadata": {
    "ExecuteTime": {
     "end_time": "2020-12-28T11:50:44.381976Z",
     "start_time": "2020-12-28T11:50:37.284919Z"
    }
   },
   "outputs": [
    {
     "data": {
      "image/png": "[encoded data removed]",
      "text/plain": [
       "<Figure size 429.25x360 with 1 Axes>"
      ]
     },
     "metadata": {
      "needs_background": "light"
     },
     "output_type": "display_data"
    }
   ],
   "source": [
    "## Recruitment chnnel vs Promoted\n",
    " \n",
    "sns.catplot(data = df,x = 'recruitment_channel',kind = 'count',hue = 'is_promoted', palette = 'viridis',orient = 'v')\n",
    "plt.title('Recruitment_channel wise promoted')\n",
    "plt.show()"
   ]
  },
  {
   "cell_type": "code",
   "execution_count": 28,
   "metadata": {
    "ExecuteTime": {
     "end_time": "2020-12-28T11:50:44.755577Z",
     "start_time": "2020-12-28T11:50:44.385965Z"
    }
   },
   "outputs": [
    {
     "data": {
      "image/png": "[encoded data removed]",
      "text/plain": [
       "<Figure size 432x288 with 1 Axes>"
      ]
     },
     "metadata": {
      "needs_background": "light"
     },
     "output_type": "display_data"
    }
   ],
   "source": [
    "## no_of_trainings\n",
    "df['no_of_trainings'].value_counts().plot(kind = 'bar',color = 'darkgreen');"
   ]
  },
  {
   "cell_type": "code",
   "execution_count": 29,
   "metadata": {
    "ExecuteTime": {
     "end_time": "2020-12-28T11:50:48.168801Z",
     "start_time": "2020-12-28T11:50:44.759964Z"
    }
   },
   "outputs": [
    {
     "data": {
      "image/png": "[encoded data removed]",
      "text/plain": [
       "<Figure size 429.25x360 with 1 Axes>"
      ]
     },
     "metadata": {
      "needs_background": "light"
     },
     "output_type": "display_data"
    }
   ],
   "source": [
    "## No _of training wise promoted\n",
    "sns.catplot(data = df,x = 'no_of_trainings',kind = 'count',hue = 'is_promoted', palette = 'afmhot',orient = 'v')\n",
    "plt.title('No of trainings wise promoted')\n",
    "plt.show()"
   ]
  },
  {
   "cell_type": "code",
   "execution_count": 30,
   "metadata": {
    "ExecuteTime": {
     "end_time": "2020-12-28T11:50:48.189797Z",
     "start_time": "2020-12-28T11:50:48.173273Z"
    }
   },
   "outputs": [
    {
     "data": {
      "text/plain": [
       "count    78298.000000\n",
       "mean        34.797619\n",
       "std          7.665928\n",
       "min         20.000000\n",
       "25%         29.000000\n",
       "50%         33.000000\n",
       "75%         39.000000\n",
       "max         60.000000\n",
       "Name: age, dtype: float64"
      ]
     },
     "execution_count": 30,
     "metadata": {},
     "output_type": "execute_result"
    }
   ],
   "source": [
    "### Age\n",
    "## creating bins with Age varible\n",
    "\n",
    "df['age'].describe()"
   ]
  },
  {
   "cell_type": "code",
   "execution_count": 31,
   "metadata": {
    "ExecuteTime": {
     "end_time": "2020-12-28T11:50:48.210933Z",
     "start_time": "2020-12-28T11:50:48.193218Z"
    }
   },
   "outputs": [],
   "source": [
    "bins = [10,20,30,40,50,60]\n",
    "labels = ['10-20','20-30','30-40','40-50','50-60']\n",
    "\n",
    "df['age'] = pd.cut(df['age'],bins,labels)"
   ]
  },
  {
   "cell_type": "code",
   "execution_count": 32,
   "metadata": {
    "ExecuteTime": {
     "end_time": "2020-12-28T11:50:48.553775Z",
     "start_time": "2020-12-28T11:50:48.221144Z"
    }
   },
   "outputs": [
    {
     "data": {
      "text/plain": [
       "<AxesSubplot:>"
      ]
     },
     "execution_count": 32,
     "metadata": {},
     "output_type": "execute_result"
    },
    {
     "data": {
      "image/png": "[encoded data removed]",
      "text/plain": [
       "<Figure size 432x288 with 1 Axes>"
      ]
     },
     "metadata": {
      "needs_background": "light"
     },
     "output_type": "display_data"
    }
   ],
   "source": [
    "df['age'].value_counts().plot(kind = 'bar', color = 'saddlebrown')"
   ]
  },
  {
   "cell_type": "code",
   "execution_count": 33,
   "metadata": {
    "ExecuteTime": {
     "end_time": "2020-12-28T11:51:00.427681Z",
     "start_time": "2020-12-28T11:50:48.557247Z"
    }
   },
   "outputs": [
    {
     "data": {
      "image/png": "[encoded data removed]",
      "text/plain": [
       "<Figure size 429.25x360 with 1 Axes>"
      ]
     },
     "metadata": {
      "needs_background": "light"
     },
     "output_type": "display_data"
    }
   ],
   "source": [
    "## Age vs Promoted\n",
    " \n",
    "sns.catplot(data = df,x = 'age',kind = 'count',hue = 'is_promoted', palette = 'viridis',orient = 'v')\n",
    "plt.title('Age wise promoted')\n",
    "plt.show()"
   ]
  },
  {
   "cell_type": "code",
   "execution_count": 34,
   "metadata": {
    "ExecuteTime": {
     "end_time": "2020-12-28T11:51:00.667592Z",
     "start_time": "2020-12-28T11:51:00.433105Z"
    }
   },
   "outputs": [
    {
     "data": {
      "text/plain": [
       "<AxesSubplot:ylabel='previous_year_rating'>"
      ]
     },
     "execution_count": 34,
     "metadata": {},
     "output_type": "execute_result"
    },
    {
     "data": {
      "image/png": "[encoded data removed]",
      "text/plain": [
       "<Figure size 432x288 with 1 Axes>"
      ]
     },
     "metadata": {},
     "output_type": "display_data"
    }
   ],
   "source": [
    "## previous_year_rting\n",
    "\n",
    "df['previous_year_rating'].value_counts().plot(kind = 'pie')"
   ]
  },
  {
   "cell_type": "code",
   "execution_count": 35,
   "metadata": {
    "ExecuteTime": {
     "end_time": "2020-12-28T11:51:00.685991Z",
     "start_time": "2020-12-28T11:51:00.672028Z"
    }
   },
   "outputs": [],
   "source": [
    "### substituting na values with mode\n",
    "\n",
    "a = df['previous_year_rating'].mode()[0]\n",
    "\n",
    "\n",
    "df['previous_year_rating'].fillna(a,inplace = True)"
   ]
  },
  {
   "cell_type": "code",
   "execution_count": 36,
   "metadata": {
    "ExecuteTime": {
     "end_time": "2020-12-28T11:51:10.772574Z",
     "start_time": "2020-12-28T11:51:00.690976Z"
    }
   },
   "outputs": [
    {
     "data": {
      "image/png": "[encoded data removed]",
      "text/plain": [
       "<Figure size 429.25x360 with 1 Axes>"
      ]
     },
     "metadata": {
      "needs_background": "light"
     },
     "output_type": "display_data"
    }
   ],
   "source": [
    "## Previous year ratings vs Promoted\n",
    "\n",
    "sns.catplot(data = df,x = 'previous_year_rating',kind = 'count',hue = 'is_promoted', palette = 'prism',orient = 'v')\n",
    "plt.title('Previous Year Rating wise promoted')\n",
    "plt.show()"
   ]
  },
  {
   "cell_type": "code",
   "execution_count": 37,
   "metadata": {
    "ExecuteTime": {
     "end_time": "2020-12-28T11:51:11.510669Z",
     "start_time": "2020-12-28T11:51:10.776106Z"
    }
   },
   "outputs": [
    {
     "data": {
      "text/plain": [
       "<AxesSubplot:>"
      ]
     },
     "execution_count": 37,
     "metadata": {},
     "output_type": "execute_result"
    },
    {
     "data": {
      "image/png": "[encoded data removed]",
      "text/plain": [
       "<Figure size 432x288 with 1 Axes>"
      ]
     },
     "metadata": {
      "needs_background": "light"
     },
     "output_type": "display_data"
    }
   ],
   "source": [
    "## length_of_service\n",
    "\n",
    "df['length_of_service'].value_counts().plot(kind = 'bar', color = 'darkgreen')"
   ]
  },
  {
   "cell_type": "code",
   "execution_count": 38,
   "metadata": {
    "ExecuteTime": {
     "end_time": "2020-12-28T11:51:11.530091Z",
     "start_time": "2020-12-28T11:51:11.514326Z"
    }
   },
   "outputs": [],
   "source": [
    "## Let's make it easy and create bins\n",
    "bins = [0,10,20,30,40]\n",
    "labels = ['0-10','10-20','20-30','30-40']\n",
    "\n",
    "df['length_of_service'] = pd.cut(df['length_of_service'],bins,labels)"
   ]
  },
  {
   "cell_type": "code",
   "execution_count": 39,
   "metadata": {
    "ExecuteTime": {
     "end_time": "2020-12-28T11:51:23.658440Z",
     "start_time": "2020-12-28T11:51:11.534445Z"
    }
   },
   "outputs": [
    {
     "data": {
      "image/png": "[encoded data removed]",
      "text/plain": [
       "<Figure size 429.25x360 with 1 Axes>"
      ]
     },
     "metadata": {
      "needs_background": "light"
     },
     "output_type": "display_data"
    }
   ],
   "source": [
    "## Length_of_service wise Promotion \n",
    "sns.catplot(data = df,x = 'length_of_service',kind = 'count',hue = 'is_promoted', palette = 'copper',orient = 'v')\n",
    "plt.title('Length_of_service wise promoted')\n",
    "plt.show()\n"
   ]
  },
  {
   "cell_type": "code",
   "execution_count": 40,
   "metadata": {
    "ExecuteTime": {
     "end_time": "2020-12-28T11:51:23.932093Z",
     "start_time": "2020-12-28T11:51:23.661815Z"
    }
   },
   "outputs": [
    {
     "data": {
      "text/plain": [
       "<AxesSubplot:>"
      ]
     },
     "execution_count": 40,
     "metadata": {},
     "output_type": "execute_result"
    },
    {
     "data": {
      "image/png": "[encoded data removed]",
      "text/plain": [
       "<Figure size 432x288 with 1 Axes>"
      ]
     },
     "metadata": {
      "needs_background": "light"
     },
     "output_type": "display_data"
    }
   ],
   "source": [
    "##KPIs_met >80%\n",
    "\n",
    "df['KPIs_met >80%'].value_counts().plot(kind = 'bar',color = 'teal')"
   ]
  },
  {
   "cell_type": "code",
   "execution_count": 41,
   "metadata": {
    "ExecuteTime": {
     "end_time": "2020-12-28T11:51:27.704434Z",
     "start_time": "2020-12-28T11:51:23.937078Z"
    }
   },
   "outputs": [
    {
     "data": {
      "image/png": "[encoded data removed]",
      "text/plain": [
       "<Figure size 429.25x360 with 1 Axes>"
      ]
     },
     "metadata": {
      "needs_background": "light"
     },
     "output_type": "display_data"
    }
   ],
   "source": [
    "## KPIs_met >80% vs promoted \n",
    "sns.catplot(data = df,x = 'KPIs_met >80%',kind = 'count',hue = 'is_promoted', palette = 'afmhot',orient = 'v')\n",
    "plt.title('KPI_met wise promoted')\n",
    "plt.show()"
   ]
  },
  {
   "cell_type": "code",
   "execution_count": 42,
   "metadata": {
    "ExecuteTime": {
     "end_time": "2020-12-28T11:51:27.877970Z",
     "start_time": "2020-12-28T11:51:27.707427Z"
    }
   },
   "outputs": [
    {
     "data": {
      "text/plain": [
       "<AxesSubplot:ylabel='awards_won?'>"
      ]
     },
     "execution_count": 42,
     "metadata": {},
     "output_type": "execute_result"
    },
    {
     "data": {
      "image/png": "[encoded data removed]",
      "text/plain": [
       "<Figure size 432x288 with 1 Axes>"
      ]
     },
     "metadata": {},
     "output_type": "display_data"
    }
   ],
   "source": [
    "## Awards won\n",
    "df['awards_won?'].value_counts().plot(kind = 'pie')"
   ]
  },
  {
   "cell_type": "code",
   "execution_count": 43,
   "metadata": {
    "ExecuteTime": {
     "end_time": "2020-12-28T11:51:31.933415Z",
     "start_time": "2020-12-28T11:51:27.882957Z"
    }
   },
   "outputs": [
    {
     "data": {
      "image/png": "[encoded data removed]",
      "text/plain": [
       "<Figure size 429.25x360 with 1 Axes>"
      ]
     },
     "metadata": {
      "needs_background": "light"
     },
     "output_type": "display_data"
    }
   ],
   "source": [
    "## Awards won vs Promoted \n",
    "\n",
    "sns.catplot(data = df,x = 'awards_won?',kind = 'count',hue = 'is_promoted', palette = 'winter',orient = 'v')\n",
    "plt.title('Awards won wise promoted')\n",
    "plt.show()"
   ]
  },
  {
   "cell_type": "code",
   "execution_count": 44,
   "metadata": {
    "ExecuteTime": {
     "end_time": "2020-12-28T11:51:33.161708Z",
     "start_time": "2020-12-28T11:51:31.938174Z"
    }
   },
   "outputs": [
    {
     "data": {
      "text/plain": [
       "<AxesSubplot:xlabel='avg_training_score', ylabel='Density'>"
      ]
     },
     "execution_count": 44,
     "metadata": {},
     "output_type": "execute_result"
    },
    {
     "data": {
      "image/png": "[encoded data removed]",
      "text/plain": [
       "<Figure size 432x288 with 1 Axes>"
      ]
     },
     "metadata": {
      "needs_background": "light"
     },
     "output_type": "display_data"
    }
   ],
   "source": [
    "##avg_training_score\n",
    "\n",
    "sns.distplot(df['avg_training_score'])\n",
    "\n",
    "## It's normlly distributed"
   ]
  },
  {
   "cell_type": "code",
   "execution_count": 45,
   "metadata": {
    "ExecuteTime": {
     "end_time": "2020-12-28T11:51:38.399589Z",
     "start_time": "2020-12-28T11:51:33.165032Z"
    }
   },
   "outputs": [
    {
     "data": {
      "text/plain": [
       "<AxesSubplot:xlabel='is_promoted', ylabel='avg_training_score'>"
      ]
     },
     "execution_count": 45,
     "metadata": {},
     "output_type": "execute_result"
    },
    {
     "data": {
      "image/png": "[encoded data removed]",
      "text/plain": [
       "<Figure size 432x288 with 1 Axes>"
      ]
     },
     "metadata": {
      "needs_background": "light"
     },
     "output_type": "display_data"
    }
   ],
   "source": [
    "sns.barplot(x = 'is_promoted', y = 'avg_training_score',data = df, palette = 'gist_earth')"
   ]
  },
  {
   "cell_type": "code",
   "execution_count": 46,
   "metadata": {
    "ExecuteTime": {
     "end_time": "2020-12-28T11:51:38.461868Z",
     "start_time": "2020-12-28T11:51:38.402582Z"
    }
   },
   "outputs": [
    {
     "name": "stdout",
     "output_type": "stream",
     "text": [
      "<class 'pandas.core.frame.DataFrame'>\n",
      "Int64Index: 78298 entries, 0 to 23489\n",
      "Data columns (total 13 columns):\n",
      " #   Column                Non-Null Count  Dtype   \n",
      "---  ------                --------------  -----   \n",
      " 0   department            78298 non-null  object  \n",
      " 1   region                78298 non-null  object  \n",
      " 2   education             78298 non-null  object  \n",
      " 3   gender                78298 non-null  object  \n",
      " 4   recruitment_channel   78298 non-null  object  \n",
      " 5   no_of_trainings       78298 non-null  int64   \n",
      " 6   age                   78298 non-null  category\n",
      " 7   previous_year_rating  78298 non-null  float64 \n",
      " 8   length_of_service     78298 non-null  category\n",
      " 9   KPIs_met >80%         78298 non-null  int64   \n",
      " 10  awards_won?           78298 non-null  int64   \n",
      " 11  avg_training_score    78298 non-null  int64   \n",
      " 12  is_promoted           54808 non-null  float64 \n",
      "dtypes: category(2), float64(2), int64(4), object(5)\n",
      "memory usage: 7.8+ MB\n"
     ]
    }
   ],
   "source": [
    "df.info()"
   ]
  },
  {
   "cell_type": "code",
   "execution_count": 47,
   "metadata": {
    "ExecuteTime": {
     "end_time": "2020-12-28T11:51:38.812563Z",
     "start_time": "2020-12-28T11:51:38.468405Z"
    }
   },
   "outputs": [
    {
     "data": {
      "text/plain": [
       "<AxesSubplot:>"
      ]
     },
     "execution_count": 47,
     "metadata": {},
     "output_type": "execute_result"
    },
    {
     "data": {
      "image/png": "[encoded data removed]",
      "text/plain": [
       "<Figure size 432x288 with 1 Axes>"
      ]
     },
     "metadata": {
      "needs_background": "light"
     },
     "output_type": "display_data"
    }
   ],
   "source": [
    "### checking outliers - \n",
    "## avg_training_score\n",
    "df['avg_training_score'].quantile(np.arange(0,1.01,0.01)).plot(kind = 'line', marker = 'o')\n",
    "\n",
    "## small outlier"
   ]
  },
  {
   "cell_type": "code",
   "execution_count": 48,
   "metadata": {
    "ExecuteTime": {
     "end_time": "2020-12-28T11:51:38.928192Z",
     "start_time": "2020-12-28T11:51:38.817768Z"
    }
   },
   "outputs": [],
   "source": [
    "df['avg_training_score'] = df['avg_training_score'].apply(lambda x : 92.0 if x > 92.0 else x)"
   ]
  },
  {
   "cell_type": "code",
   "execution_count": 49,
   "metadata": {
    "ExecuteTime": {
     "end_time": "2020-12-28T11:51:39.245866Z",
     "start_time": "2020-12-28T11:51:38.933936Z"
    }
   },
   "outputs": [
    {
     "data": {
      "text/plain": [
       "<AxesSubplot:>"
      ]
     },
     "execution_count": 49,
     "metadata": {},
     "output_type": "execute_result"
    },
    {
     "data": {
      "image/png": "[encoded data removed]",
      "text/plain": [
       "<Figure size 432x288 with 1 Axes>"
      ]
     },
     "metadata": {
      "needs_background": "light"
     },
     "output_type": "display_data"
    }
   ],
   "source": [
    "df['avg_training_score'].quantile(np.arange(0,1.01,0.01)).plot(kind = 'line', marker = 'o')\n"
   ]
  },
  {
   "cell_type": "code",
   "execution_count": 50,
   "metadata": {
    "ExecuteTime": {
     "end_time": "2020-12-28T11:51:39.332100Z",
     "start_time": "2020-12-28T11:51:39.250351Z"
    }
   },
   "outputs": [
    {
     "name": "stdout",
     "output_type": "stream",
     "text": [
      "<class 'pandas.core.frame.DataFrame'>\n",
      "Int64Index: 78298 entries, 0 to 23489\n",
      "Data columns (total 13 columns):\n",
      " #   Column                Non-Null Count  Dtype   \n",
      "---  ------                --------------  -----   \n",
      " 0   department            78298 non-null  object  \n",
      " 1   region                78298 non-null  object  \n",
      " 2   education             78298 non-null  object  \n",
      " 3   gender                78298 non-null  object  \n",
      " 4   recruitment_channel   78298 non-null  object  \n",
      " 5   no_of_trainings       78298 non-null  int64   \n",
      " 6   age                   78298 non-null  category\n",
      " 7   previous_year_rating  78298 non-null  float64 \n",
      " 8   length_of_service     78298 non-null  category\n",
      " 9   KPIs_met >80%         78298 non-null  int64   \n",
      " 10  awards_won?           78298 non-null  int64   \n",
      " 11  avg_training_score    78298 non-null  float64 \n",
      " 12  is_promoted           54808 non-null  float64 \n",
      "dtypes: category(2), float64(3), int64(3), object(5)\n",
      "memory usage: 7.8+ MB\n"
     ]
    }
   ],
   "source": [
    "df.info()"
   ]
  },
  {
   "cell_type": "code",
   "execution_count": 51,
   "metadata": {
    "ExecuteTime": {
     "end_time": "2020-12-28T11:51:39.553583Z",
     "start_time": "2020-12-28T11:51:39.337082Z"
    }
   },
   "outputs": [],
   "source": [
    "###  scaling the numeric features\n",
    "\n",
    "col = ['no_of_trainings','avg_training_score']\n",
    "\n",
    "from sklearn.preprocessing import StandardScaler\n",
    "\n",
    "sc = StandardScaler()\n",
    "\n",
    "df.loc[:,col] = sc.fit_transform(df.loc[:,col].values)"
   ]
  },
  {
   "cell_type": "code",
   "execution_count": 52,
   "metadata": {
    "ExecuteTime": {
     "end_time": "2020-12-28T11:51:39.769616Z",
     "start_time": "2020-12-28T11:51:39.557583Z"
    }
   },
   "outputs": [
    {
     "data": {
      "text/html": [
       "<div>\n",
       "<style scoped>\n",
       "    .dataframe tbody tr th:only-of-type {\n",
       "        vertical-align: middle;\n",
       "    }\n",
       "\n",
       "    .dataframe tbody tr th {\n",
       "        vertical-align: top;\n",
       "    }\n",
       "\n",
       "    .dataframe thead th {\n",
       "        text-align: right;\n",
       "    }\n",
       "</style>\n",
       "<table border=\"1\" class=\"dataframe\">\n",
       "  <thead>\n",
       "    <tr style=\"text-align: right;\">\n",
       "      <th></th>\n",
       "      <th>no_of_trainings</th>\n",
       "      <th>previous_year_rating</th>\n",
       "      <th>KPIs_met &gt;80%</th>\n",
       "      <th>awards_won?</th>\n",
       "      <th>avg_training_score</th>\n",
       "      <th>is_promoted</th>\n",
       "      <th>department_Analytics</th>\n",
       "      <th>department_Finance</th>\n",
       "      <th>department_HR</th>\n",
       "      <th>department_Legal</th>\n",
       "      <th>department_Operations</th>\n",
       "      <th>department_Procurement</th>\n",
       "      <th>department_R&amp;D</th>\n",
       "      <th>department_Sales &amp; Marketing</th>\n",
       "      <th>department_Technology</th>\n",
       "      <th>region_region_1</th>\n",
       "      <th>region_region_10</th>\n",
       "      <th>region_region_11</th>\n",
       "      <th>region_region_12</th>\n",
       "      <th>region_region_13</th>\n",
       "      <th>region_region_14</th>\n",
       "      <th>region_region_15</th>\n",
       "      <th>region_region_16</th>\n",
       "      <th>region_region_17</th>\n",
       "      <th>region_region_18</th>\n",
       "      <th>region_region_19</th>\n",
       "      <th>region_region_2</th>\n",
       "      <th>region_region_20</th>\n",
       "      <th>region_region_21</th>\n",
       "      <th>region_region_22</th>\n",
       "      <th>region_region_23</th>\n",
       "      <th>region_region_24</th>\n",
       "      <th>region_region_25</th>\n",
       "      <th>region_region_26</th>\n",
       "      <th>region_region_27</th>\n",
       "      <th>region_region_28</th>\n",
       "      <th>region_region_29</th>\n",
       "      <th>region_region_3</th>\n",
       "      <th>region_region_30</th>\n",
       "      <th>region_region_31</th>\n",
       "      <th>region_region_32</th>\n",
       "      <th>region_region_33</th>\n",
       "      <th>region_region_34</th>\n",
       "      <th>region_region_4</th>\n",
       "      <th>region_region_5</th>\n",
       "      <th>region_region_6</th>\n",
       "      <th>region_region_7</th>\n",
       "      <th>region_region_8</th>\n",
       "      <th>region_region_9</th>\n",
       "      <th>education_Bachelor's</th>\n",
       "      <th>education_Below Secondary</th>\n",
       "      <th>education_Master's &amp; above</th>\n",
       "      <th>gender_f</th>\n",
       "      <th>gender_m</th>\n",
       "      <th>recruitment_channel_other</th>\n",
       "      <th>recruitment_channel_referred</th>\n",
       "      <th>recruitment_channel_sourcing</th>\n",
       "      <th>age_(10, 20]</th>\n",
       "      <th>age_(20, 30]</th>\n",
       "      <th>age_(30, 40]</th>\n",
       "      <th>age_(40, 50]</th>\n",
       "      <th>age_(50, 60]</th>\n",
       "      <th>length_of_service_(0, 10]</th>\n",
       "      <th>length_of_service_(10, 20]</th>\n",
       "      <th>length_of_service_(20, 30]</th>\n",
       "      <th>length_of_service_(30, 40]</th>\n",
       "    </tr>\n",
       "  </thead>\n",
       "  <tbody>\n",
       "    <tr>\n",
       "      <th>0</th>\n",
       "      <td>-0.417590</td>\n",
       "      <td>5.0</td>\n",
       "      <td>1</td>\n",
       "      <td>0</td>\n",
       "      <td>-1.074749</td>\n",
       "      <td>0.0</td>\n",
       "      <td>0</td>\n",
       "      <td>0</td>\n",
       "      <td>0</td>\n",
       "      <td>0</td>\n",
       "      <td>0</td>\n",
       "      <td>0</td>\n",
       "      <td>0</td>\n",
       "      <td>1</td>\n",
       "      <td>0</td>\n",
       "      <td>0</td>\n",
       "      <td>0</td>\n",
       "      <td>0</td>\n",
       "      <td>0</td>\n",
       "      <td>0</td>\n",
       "      <td>0</td>\n",
       "      <td>0</td>\n",
       "      <td>0</td>\n",
       "      <td>0</td>\n",
       "      <td>0</td>\n",
       "      <td>0</td>\n",
       "      <td>0</td>\n",
       "      <td>0</td>\n",
       "      <td>0</td>\n",
       "      <td>0</td>\n",
       "      <td>0</td>\n",
       "      <td>0</td>\n",
       "      <td>0</td>\n",
       "      <td>0</td>\n",
       "      <td>0</td>\n",
       "      <td>0</td>\n",
       "      <td>0</td>\n",
       "      <td>0</td>\n",
       "      <td>0</td>\n",
       "      <td>0</td>\n",
       "      <td>0</td>\n",
       "      <td>0</td>\n",
       "      <td>0</td>\n",
       "      <td>0</td>\n",
       "      <td>0</td>\n",
       "      <td>0</td>\n",
       "      <td>1</td>\n",
       "      <td>0</td>\n",
       "      <td>0</td>\n",
       "      <td>0</td>\n",
       "      <td>0</td>\n",
       "      <td>1</td>\n",
       "      <td>1</td>\n",
       "      <td>0</td>\n",
       "      <td>0</td>\n",
       "      <td>0</td>\n",
       "      <td>1</td>\n",
       "      <td>0</td>\n",
       "      <td>0</td>\n",
       "      <td>1</td>\n",
       "      <td>0</td>\n",
       "      <td>0</td>\n",
       "      <td>1</td>\n",
       "      <td>0</td>\n",
       "      <td>0</td>\n",
       "      <td>0</td>\n",
       "    </tr>\n",
       "    <tr>\n",
       "      <th>1</th>\n",
       "      <td>-0.417590</td>\n",
       "      <td>5.0</td>\n",
       "      <td>0</td>\n",
       "      <td>0</td>\n",
       "      <td>-0.249556</td>\n",
       "      <td>0.0</td>\n",
       "      <td>0</td>\n",
       "      <td>0</td>\n",
       "      <td>0</td>\n",
       "      <td>0</td>\n",
       "      <td>1</td>\n",
       "      <td>0</td>\n",
       "      <td>0</td>\n",
       "      <td>0</td>\n",
       "      <td>0</td>\n",
       "      <td>0</td>\n",
       "      <td>0</td>\n",
       "      <td>0</td>\n",
       "      <td>0</td>\n",
       "      <td>0</td>\n",
       "      <td>0</td>\n",
       "      <td>0</td>\n",
       "      <td>0</td>\n",
       "      <td>0</td>\n",
       "      <td>0</td>\n",
       "      <td>0</td>\n",
       "      <td>0</td>\n",
       "      <td>0</td>\n",
       "      <td>0</td>\n",
       "      <td>1</td>\n",
       "      <td>0</td>\n",
       "      <td>0</td>\n",
       "      <td>0</td>\n",
       "      <td>0</td>\n",
       "      <td>0</td>\n",
       "      <td>0</td>\n",
       "      <td>0</td>\n",
       "      <td>0</td>\n",
       "      <td>0</td>\n",
       "      <td>0</td>\n",
       "      <td>0</td>\n",
       "      <td>0</td>\n",
       "      <td>0</td>\n",
       "      <td>0</td>\n",
       "      <td>0</td>\n",
       "      <td>0</td>\n",
       "      <td>0</td>\n",
       "      <td>0</td>\n",
       "      <td>0</td>\n",
       "      <td>1</td>\n",
       "      <td>0</td>\n",
       "      <td>0</td>\n",
       "      <td>0</td>\n",
       "      <td>1</td>\n",
       "      <td>1</td>\n",
       "      <td>0</td>\n",
       "      <td>0</td>\n",
       "      <td>0</td>\n",
       "      <td>1</td>\n",
       "      <td>0</td>\n",
       "      <td>0</td>\n",
       "      <td>0</td>\n",
       "      <td>1</td>\n",
       "      <td>0</td>\n",
       "      <td>0</td>\n",
       "      <td>0</td>\n",
       "    </tr>\n",
       "    <tr>\n",
       "      <th>2</th>\n",
       "      <td>-0.417590</td>\n",
       "      <td>3.0</td>\n",
       "      <td>0</td>\n",
       "      <td>0</td>\n",
       "      <td>-0.999732</td>\n",
       "      <td>0.0</td>\n",
       "      <td>0</td>\n",
       "      <td>0</td>\n",
       "      <td>0</td>\n",
       "      <td>0</td>\n",
       "      <td>0</td>\n",
       "      <td>0</td>\n",
       "      <td>0</td>\n",
       "      <td>1</td>\n",
       "      <td>0</td>\n",
       "      <td>0</td>\n",
       "      <td>0</td>\n",
       "      <td>0</td>\n",
       "      <td>0</td>\n",
       "      <td>0</td>\n",
       "      <td>0</td>\n",
       "      <td>0</td>\n",
       "      <td>0</td>\n",
       "      <td>0</td>\n",
       "      <td>0</td>\n",
       "      <td>1</td>\n",
       "      <td>0</td>\n",
       "      <td>0</td>\n",
       "      <td>0</td>\n",
       "      <td>0</td>\n",
       "      <td>0</td>\n",
       "      <td>0</td>\n",
       "      <td>0</td>\n",
       "      <td>0</td>\n",
       "      <td>0</td>\n",
       "      <td>0</td>\n",
       "      <td>0</td>\n",
       "      <td>0</td>\n",
       "      <td>0</td>\n",
       "      <td>0</td>\n",
       "      <td>0</td>\n",
       "      <td>0</td>\n",
       "      <td>0</td>\n",
       "      <td>0</td>\n",
       "      <td>0</td>\n",
       "      <td>0</td>\n",
       "      <td>0</td>\n",
       "      <td>0</td>\n",
       "      <td>0</td>\n",
       "      <td>1</td>\n",
       "      <td>0</td>\n",
       "      <td>0</td>\n",
       "      <td>0</td>\n",
       "      <td>1</td>\n",
       "      <td>0</td>\n",
       "      <td>0</td>\n",
       "      <td>1</td>\n",
       "      <td>0</td>\n",
       "      <td>0</td>\n",
       "      <td>1</td>\n",
       "      <td>0</td>\n",
       "      <td>0</td>\n",
       "      <td>1</td>\n",
       "      <td>0</td>\n",
       "      <td>0</td>\n",
       "      <td>0</td>\n",
       "    </tr>\n",
       "    <tr>\n",
       "      <th>3</th>\n",
       "      <td>1.230501</td>\n",
       "      <td>1.0</td>\n",
       "      <td>0</td>\n",
       "      <td>0</td>\n",
       "      <td>-0.999732</td>\n",
       "      <td>0.0</td>\n",
       "      <td>0</td>\n",
       "      <td>0</td>\n",
       "      <td>0</td>\n",
       "      <td>0</td>\n",
       "      <td>0</td>\n",
       "      <td>0</td>\n",
       "      <td>0</td>\n",
       "      <td>1</td>\n",
       "      <td>0</td>\n",
       "      <td>0</td>\n",
       "      <td>0</td>\n",
       "      <td>0</td>\n",
       "      <td>0</td>\n",
       "      <td>0</td>\n",
       "      <td>0</td>\n",
       "      <td>0</td>\n",
       "      <td>0</td>\n",
       "      <td>0</td>\n",
       "      <td>0</td>\n",
       "      <td>0</td>\n",
       "      <td>0</td>\n",
       "      <td>0</td>\n",
       "      <td>0</td>\n",
       "      <td>0</td>\n",
       "      <td>1</td>\n",
       "      <td>0</td>\n",
       "      <td>0</td>\n",
       "      <td>0</td>\n",
       "      <td>0</td>\n",
       "      <td>0</td>\n",
       "      <td>0</td>\n",
       "      <td>0</td>\n",
       "      <td>0</td>\n",
       "      <td>0</td>\n",
       "      <td>0</td>\n",
       "      <td>0</td>\n",
       "      <td>0</td>\n",
       "      <td>0</td>\n",
       "      <td>0</td>\n",
       "      <td>0</td>\n",
       "      <td>0</td>\n",
       "      <td>0</td>\n",
       "      <td>0</td>\n",
       "      <td>1</td>\n",
       "      <td>0</td>\n",
       "      <td>0</td>\n",
       "      <td>0</td>\n",
       "      <td>1</td>\n",
       "      <td>1</td>\n",
       "      <td>0</td>\n",
       "      <td>0</td>\n",
       "      <td>0</td>\n",
       "      <td>0</td>\n",
       "      <td>1</td>\n",
       "      <td>0</td>\n",
       "      <td>0</td>\n",
       "      <td>1</td>\n",
       "      <td>0</td>\n",
       "      <td>0</td>\n",
       "      <td>0</td>\n",
       "    </tr>\n",
       "    <tr>\n",
       "      <th>4</th>\n",
       "      <td>-0.417590</td>\n",
       "      <td>3.0</td>\n",
       "      <td>0</td>\n",
       "      <td>0</td>\n",
       "      <td>0.725672</td>\n",
       "      <td>0.0</td>\n",
       "      <td>0</td>\n",
       "      <td>0</td>\n",
       "      <td>0</td>\n",
       "      <td>0</td>\n",
       "      <td>0</td>\n",
       "      <td>0</td>\n",
       "      <td>0</td>\n",
       "      <td>0</td>\n",
       "      <td>1</td>\n",
       "      <td>0</td>\n",
       "      <td>0</td>\n",
       "      <td>0</td>\n",
       "      <td>0</td>\n",
       "      <td>0</td>\n",
       "      <td>0</td>\n",
       "      <td>0</td>\n",
       "      <td>0</td>\n",
       "      <td>0</td>\n",
       "      <td>0</td>\n",
       "      <td>0</td>\n",
       "      <td>0</td>\n",
       "      <td>0</td>\n",
       "      <td>0</td>\n",
       "      <td>0</td>\n",
       "      <td>0</td>\n",
       "      <td>0</td>\n",
       "      <td>0</td>\n",
       "      <td>1</td>\n",
       "      <td>0</td>\n",
       "      <td>0</td>\n",
       "      <td>0</td>\n",
       "      <td>0</td>\n",
       "      <td>0</td>\n",
       "      <td>0</td>\n",
       "      <td>0</td>\n",
       "      <td>0</td>\n",
       "      <td>0</td>\n",
       "      <td>0</td>\n",
       "      <td>0</td>\n",
       "      <td>0</td>\n",
       "      <td>0</td>\n",
       "      <td>0</td>\n",
       "      <td>0</td>\n",
       "      <td>1</td>\n",
       "      <td>0</td>\n",
       "      <td>0</td>\n",
       "      <td>0</td>\n",
       "      <td>1</td>\n",
       "      <td>1</td>\n",
       "      <td>0</td>\n",
       "      <td>0</td>\n",
       "      <td>0</td>\n",
       "      <td>0</td>\n",
       "      <td>0</td>\n",
       "      <td>1</td>\n",
       "      <td>0</td>\n",
       "      <td>1</td>\n",
       "      <td>0</td>\n",
       "      <td>0</td>\n",
       "      <td>0</td>\n",
       "    </tr>\n",
       "  </tbody>\n",
       "</table>\n",
       "</div>"
      ],
      "text/plain": [
       "   no_of_trainings  previous_year_rating  KPIs_met >80%  awards_won?  \\\n",
       "0        -0.417590                   5.0              1            0   \n",
       "1        -0.417590                   5.0              0            0   \n",
       "2        -0.417590                   3.0              0            0   \n",
       "3         1.230501                   1.0              0            0   \n",
       "4        -0.417590                   3.0              0            0   \n",
       "\n",
       "   avg_training_score  is_promoted  department_Analytics  department_Finance  \\\n",
       "0           -1.074749          0.0                     0                   0   \n",
       "1           -0.249556          0.0                     0                   0   \n",
       "2           -0.999732          0.0                     0                   0   \n",
       "3           -0.999732          0.0                     0                   0   \n",
       "4            0.725672          0.0                     0                   0   \n",
       "\n",
       "   department_HR  department_Legal  department_Operations  \\\n",
       "0              0                 0                      0   \n",
       "1              0                 0                      1   \n",
       "2              0                 0                      0   \n",
       "3              0                 0                      0   \n",
       "4              0                 0                      0   \n",
       "\n",
       "   department_Procurement  department_R&D  department_Sales & Marketing  \\\n",
       "0                       0               0                             1   \n",
       "1                       0               0                             0   \n",
       "2                       0               0                             1   \n",
       "3                       0               0                             1   \n",
       "4                       0               0                             0   \n",
       "\n",
       "   department_Technology  region_region_1  region_region_10  region_region_11  \\\n",
       "0                      0                0                 0                 0   \n",
       "1                      0                0                 0                 0   \n",
       "2                      0                0                 0                 0   \n",
       "3                      0                0                 0                 0   \n",
       "4                      1                0                 0                 0   \n",
       "\n",
       "   region_region_12  region_region_13  region_region_14  region_region_15  \\\n",
       "0                 0                 0                 0                 0   \n",
       "1                 0                 0                 0                 0   \n",
       "2                 0                 0                 0                 0   \n",
       "3                 0                 0                 0                 0   \n",
       "4                 0                 0                 0                 0   \n",
       "\n",
       "   region_region_16  region_region_17  region_region_18  region_region_19  \\\n",
       "0                 0                 0                 0                 0   \n",
       "1                 0                 0                 0                 0   \n",
       "2                 0                 0                 0                 1   \n",
       "3                 0                 0                 0                 0   \n",
       "4                 0                 0                 0                 0   \n",
       "\n",
       "   region_region_2  region_region_20  region_region_21  region_region_22  \\\n",
       "0                0                 0                 0                 0   \n",
       "1                0                 0                 0                 1   \n",
       "2                0                 0                 0                 0   \n",
       "3                0                 0                 0                 0   \n",
       "4                0                 0                 0                 0   \n",
       "\n",
       "   region_region_23  region_region_24  region_region_25  region_region_26  \\\n",
       "0                 0                 0                 0                 0   \n",
       "1                 0                 0                 0                 0   \n",
       "2                 0                 0                 0                 0   \n",
       "3                 1                 0                 0                 0   \n",
       "4                 0                 0                 0                 1   \n",
       "\n",
       "   region_region_27  region_region_28  region_region_29  region_region_3  \\\n",
       "0                 0                 0                 0                0   \n",
       "1                 0                 0                 0                0   \n",
       "2                 0                 0                 0                0   \n",
       "3                 0                 0                 0                0   \n",
       "4                 0                 0                 0                0   \n",
       "\n",
       "   region_region_30  region_region_31  region_region_32  region_region_33  \\\n",
       "0                 0                 0                 0                 0   \n",
       "1                 0                 0                 0                 0   \n",
       "2                 0                 0                 0                 0   \n",
       "3                 0                 0                 0                 0   \n",
       "4                 0                 0                 0                 0   \n",
       "\n",
       "   region_region_34  region_region_4  region_region_5  region_region_6  \\\n",
       "0                 0                0                0                0   \n",
       "1                 0                0                0                0   \n",
       "2                 0                0                0                0   \n",
       "3                 0                0                0                0   \n",
       "4                 0                0                0                0   \n",
       "\n",
       "   region_region_7  region_region_8  region_region_9  education_Bachelor's  \\\n",
       "0                1                0                0                     0   \n",
       "1                0                0                0                     1   \n",
       "2                0                0                0                     1   \n",
       "3                0                0                0                     1   \n",
       "4                0                0                0                     1   \n",
       "\n",
       "   education_Below Secondary  education_Master's & above  gender_f  gender_m  \\\n",
       "0                          0                           1         1         0   \n",
       "1                          0                           0         0         1   \n",
       "2                          0                           0         0         1   \n",
       "3                          0                           0         0         1   \n",
       "4                          0                           0         0         1   \n",
       "\n",
       "   recruitment_channel_other  recruitment_channel_referred  \\\n",
       "0                          0                             0   \n",
       "1                          1                             0   \n",
       "2                          0                             0   \n",
       "3                          1                             0   \n",
       "4                          1                             0   \n",
       "\n",
       "   recruitment_channel_sourcing  age_(10, 20]  age_(20, 30]  age_(30, 40]  \\\n",
       "0                             1             0             0             1   \n",
       "1                             0             0             1             0   \n",
       "2                             1             0             0             1   \n",
       "3                             0             0             0             1   \n",
       "4                             0             0             0             0   \n",
       "\n",
       "   age_(40, 50]  age_(50, 60]  length_of_service_(0, 10]  \\\n",
       "0             0             0                          1   \n",
       "1             0             0                          1   \n",
       "2             0             0                          1   \n",
       "3             0             0                          1   \n",
       "4             1             0                          1   \n",
       "\n",
       "   length_of_service_(10, 20]  length_of_service_(20, 30]  \\\n",
       "0                           0                           0   \n",
       "1                           0                           0   \n",
       "2                           0                           0   \n",
       "3                           0                           0   \n",
       "4                           0                           0   \n",
       "\n",
       "   length_of_service_(30, 40]  \n",
       "0                           0  \n",
       "1                           0  \n",
       "2                           0  \n",
       "3                           0  \n",
       "4                           0  "
      ]
     },
     "execution_count": 52,
     "metadata": {},
     "output_type": "execute_result"
    }
   ],
   "source": [
    "### Dummy variables --\n",
    "\n",
    "df = pd.get_dummies(df)\n",
    "df.head()"
   ]
  },
  {
   "cell_type": "code",
   "execution_count": 53,
   "metadata": {
    "ExecuteTime": {
     "end_time": "2020-12-28T11:51:39.785043Z",
     "start_time": "2020-12-28T11:51:39.774362Z"
    }
   },
   "outputs": [],
   "source": [
    "## splitting data on train and test \n",
    "\n",
    "train = df.iloc[0:54808,]\n",
    "test = df.iloc[54808:78298,]"
   ]
  },
  {
   "cell_type": "code",
   "execution_count": 54,
   "metadata": {
    "ExecuteTime": {
     "end_time": "2020-12-28T11:51:39.833911Z",
     "start_time": "2020-12-28T11:51:39.810970Z"
    }
   },
   "outputs": [],
   "source": [
    "x = train.drop('is_promoted',axis = 1)\n",
    "y = train['is_promoted']"
   ]
  },
  {
   "cell_type": "code",
   "execution_count": 55,
   "metadata": {
    "ExecuteTime": {
     "end_time": "2020-12-28T11:51:43.728964Z",
     "start_time": "2020-12-28T11:51:39.844879Z"
    }
   },
   "outputs": [
    {
     "name": "stdout",
     "output_type": "stream",
     "text": [
      "X dataset :  (100280, 65) Y dataset :  (100280,)\n"
     ]
    }
   ],
   "source": [
    "## There is a class imbalance issue, so applying smote so that the model learns properly\n",
    "\n",
    "from imblearn.over_sampling import SMOTE\n",
    "\n",
    "smote = SMOTE('minority')\n",
    "\n",
    "X_sm,Y_sm = smote.fit_sample(x,y)\n",
    "\n",
    "print('X dataset : ', X_sm.shape, 'Y dataset : ',Y_sm.shape)"
   ]
  },
  {
   "cell_type": "code",
   "execution_count": 56,
   "metadata": {
    "ExecuteTime": {
     "end_time": "2020-12-28T11:51:43.861217Z",
     "start_time": "2020-12-28T11:51:43.734685Z"
    }
   },
   "outputs": [],
   "source": [
    "### Applying train-test split\n",
    "\n",
    "from sklearn.model_selection import train_test_split\n",
    "\n",
    "X_train, X_test, Y_train, Y_test = train_test_split(X_sm,Y_sm,test_size = 0.3,random_state = 45)"
   ]
  },
  {
   "cell_type": "code",
   "execution_count": 57,
   "metadata": {
    "ExecuteTime": {
     "end_time": "2020-12-28T11:51:43.883147Z",
     "start_time": "2020-12-28T11:51:43.865194Z"
    }
   },
   "outputs": [
    {
     "data": {
      "text/plain": [
       "1.0    50.142458\n",
       "0.0    49.857542\n",
       "Name: is_promoted, dtype: float64"
      ]
     },
     "execution_count": 57,
     "metadata": {},
     "output_type": "execute_result"
    }
   ],
   "source": [
    "Y_train.value_counts(normalize = True)*100"
   ]
  },
  {
   "cell_type": "code",
   "execution_count": 58,
   "metadata": {
    "ExecuteTime": {
     "end_time": "2020-12-28T11:51:43.906085Z",
     "start_time": "2020-12-28T11:51:43.887136Z"
    }
   },
   "outputs": [
    {
     "name": "stdout",
     "output_type": "stream",
     "text": [
      "length of X train :  70196 Length of Y train :  70196\n",
      "length of X test :  30084 Length of Y test :  30084\n"
     ]
    }
   ],
   "source": [
    "print('length of X train : ', len(X_train), 'Length of Y train : ',len(Y_train))\n",
    "print('length of X test : ', len(X_test), 'Length of Y test : ', len(Y_test))"
   ]
  },
  {
   "cell_type": "code",
   "execution_count": 59,
   "metadata": {
    "ExecuteTime": {
     "end_time": "2020-12-28T11:52:14.466500Z",
     "start_time": "2020-12-28T11:51:43.910074Z"
    }
   },
   "outputs": [],
   "source": [
    "## Applying RF MODEL\n",
    "\n",
    "from sklearn.ensemble import RandomForestClassifier\n",
    "rf_model = RandomForestClassifier()\n",
    "\n",
    "final_rf = rf_model.fit(X_train,Y_train)\n",
    "\n",
    "Y_train_pred = final_rf.predict(X_train)"
   ]
  },
  {
   "cell_type": "code",
   "execution_count": 60,
   "metadata": {
    "ExecuteTime": {
     "end_time": "2020-12-28T11:52:14.830083Z",
     "start_time": "2020-12-28T11:52:14.470497Z"
    }
   },
   "outputs": [
    {
     "name": "stdout",
     "output_type": "stream",
     "text": [
      "              precision    recall  f1-score   support\n",
      "\n",
      "         0.0       0.99      1.00      1.00     34967\n",
      "         1.0       1.00      0.99      1.00     35229\n",
      "\n",
      "    accuracy                           1.00     70196\n",
      "   macro avg       1.00      1.00      1.00     70196\n",
      "weighted avg       1.00      1.00      1.00     70196\n",
      "\n",
      "Accuracy score of RF Model :  0.9953701065587782\n"
     ]
    }
   ],
   "source": [
    "## Checking training accuracy in order to see the fitness of our model\n",
    "\n",
    "from sklearn import metrics\n",
    "from sklearn.metrics import accuracy_score, classification_report, confusion_matrix\n",
    "\n",
    "print(metrics.classification_report(Y_train_pred,Y_train))\n",
    "print('Accuracy score of RF Model : ', metrics.accuracy_score(Y_train_pred,Y_train))"
   ]
  },
  {
   "cell_type": "code",
   "execution_count": 61,
   "metadata": {
    "ExecuteTime": {
     "end_time": "2020-12-28T11:52:16.713669Z",
     "start_time": "2020-12-28T11:52:14.834523Z"
    }
   },
   "outputs": [
    {
     "data": {
      "text/plain": [
       "array([1., 0., 1., ..., 1., 1., 1.])"
      ]
     },
     "execution_count": 61,
     "metadata": {},
     "output_type": "execute_result"
    }
   ],
   "source": [
    "#### Prediction on test ---- \n",
    "\n",
    "y_pred_test = final_rf.predict(X_test)\n",
    "\n",
    "y_pred_test"
   ]
  },
  {
   "cell_type": "code",
   "execution_count": 62,
   "metadata": {
    "ExecuteTime": {
     "end_time": "2020-12-28T11:52:16.846476Z",
     "start_time": "2020-12-28T11:52:16.716550Z"
    }
   },
   "outputs": [
    {
     "name": "stdout",
     "output_type": "stream",
     "text": [
      "              precision    recall  f1-score   support\n",
      "\n",
      "         0.0       0.94      0.95      0.94     14999\n",
      "         1.0       0.95      0.94      0.94     15085\n",
      "\n",
      "    accuracy                           0.94     30084\n",
      "   macro avg       0.94      0.94      0.94     30084\n",
      "weighted avg       0.94      0.94      0.94     30084\n",
      "\n",
      "Accuracy of RF model on test dataset :  0.9428599920223375\n"
     ]
    }
   ],
   "source": [
    "### Checking accuracy of test datset \n",
    "from sklearn import metrics\n",
    "from sklearn.metrics import accuracy_score,classification_report,confusion_matrix\n",
    "\n",
    "print(metrics.classification_report(y_pred_test,Y_test))\n",
    "print('Accuracy of RF model on test dataset : ',metrics.accuracy_score(y_pred_test,Y_test))"
   ]
  },
  {
   "cell_type": "code",
   "execution_count": 63,
   "metadata": {
    "ExecuteTime": {
     "end_time": "2020-12-28T11:52:16.868147Z",
     "start_time": "2020-12-28T11:52:16.851192Z"
    }
   },
   "outputs": [],
   "source": [
    "## Not much overfitted - We can use this model further ----- \n",
    "test = test.drop('is_promoted',axis = 1)"
   ]
  },
  {
   "cell_type": "code",
   "execution_count": 64,
   "metadata": {
    "ExecuteTime": {
     "end_time": "2020-12-28T11:52:18.335373Z",
     "start_time": "2020-12-28T11:52:16.873167Z"
    }
   },
   "outputs": [],
   "source": [
    "pred_is_promoted = final_rf.predict(test)"
   ]
  },
  {
   "cell_type": "code",
   "execution_count": 65,
   "metadata": {
    "ExecuteTime": {
     "end_time": "2020-12-28T11:52:18.347260Z",
     "start_time": "2020-12-28T11:52:18.339323Z"
    }
   },
   "outputs": [],
   "source": [
    "test['is_promoted'] = pred_is_promoted"
   ]
  },
  {
   "cell_type": "code",
   "execution_count": 66,
   "metadata": {
    "ExecuteTime": {
     "end_time": "2020-12-28T11:52:18.376183Z",
     "start_time": "2020-12-28T11:52:18.351295Z"
    }
   },
   "outputs": [],
   "source": [
    "test['employee_id'] = test_id"
   ]
  },
  {
   "cell_type": "code",
   "execution_count": 67,
   "metadata": {
    "ExecuteTime": {
     "end_time": "2020-12-28T11:52:18.402115Z",
     "start_time": "2020-12-28T11:52:18.383602Z"
    }
   },
   "outputs": [],
   "source": [
    "sub = test.loc[:,['employee_id','is_promoted']]"
   ]
  }
 ],
 "metadata": {
  "kernelspec": {
   "display_name": "Python 3",
   "language": "python",
   "name": "python3"
  },
  "language_info": {
   "codemirror_mode": {
    "name": "ipython",
    "version": 3
   },
   "file_extension": ".py",
   "mimetype": "text/x-python",
   "name": "python",
   "nbconvert_exporter": "python",
   "pygments_lexer": "ipython3",
   "version": "3.8.5"
  },
  "varInspector": {
   "cols": {
    "lenName": 16,
    "lenType": 16,
    "lenVar": 40
   },
   "kernels_config": {
    "python": {
     "delete_cmd_postfix": "",
     "delete_cmd_prefix": "del ",
     "library": "var_list.py",
     "varRefreshCmd": "print(var_dic_list())"
    },
    "r": {
     "delete_cmd_postfix": ") ",
     "delete_cmd_prefix": "rm(",
     "library": "var_list.r",
     "varRefreshCmd": "cat(var_dic_list()) "
    }
   },
   "types_to_exclude": [
    "module",
    "function",
    "builtin_function_or_method",
    "instance",
    "_Feature"
   ],
   "window_display": false
  }
 },
 "nbformat": 4,
 "nbformat_minor": 4
}
